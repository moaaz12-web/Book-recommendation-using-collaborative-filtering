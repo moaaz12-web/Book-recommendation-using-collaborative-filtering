{
 "cells": [
  {
   "cell_type": "code",
   "execution_count": 3,
   "id": "720cec5b-921a-4f48-826f-b41e9c7064bd",
   "metadata": {},
   "outputs": [],
   "source": [
    "import gensim\n",
    "import pandas as pd\n",
    "import numpy as np\n",
    "import matplotlib.pyplot as plt\n",
    "import seaborn as sns\n",
    "import nltk\n",
    "from nltk import word_tokenize\n",
    "from nltk import sent_tokenize\n",
    "import re\n",
    "import os"
   ]
  },
  {
   "cell_type": "code",
   "execution_count": 10,
   "id": "512977c3-0365-45fb-9ff9-e7918ed3c6bc",
   "metadata": {},
   "outputs": [
    {
     "name": "stderr",
     "output_type": "stream",
     "text": [
      "C:\\Users\\moaaz\\AppData\\Local\\Temp/ipykernel_10608/1070825346.py:1: FutureWarning: The error_bad_lines argument has been deprecated and will be removed in a future version. Use on_bad_lines in the future.\n",
      "\n",
      "\n",
      "  books = pd.read_csv(r'D:/books.csv', sep=';', error_bad_lines = False, encoding='latin-1')\n",
      "b'Skipping line 6452: expected 8 fields, saw 9\\nSkipping line 43667: expected 8 fields, saw 10\\nSkipping line 51751: expected 8 fields, saw 9\\n'\n",
      "b'Skipping line 92038: expected 8 fields, saw 9\\nSkipping line 104319: expected 8 fields, saw 9\\nSkipping line 121768: expected 8 fields, saw 9\\n'\n",
      "b'Skipping line 144058: expected 8 fields, saw 9\\nSkipping line 150789: expected 8 fields, saw 9\\nSkipping line 157128: expected 8 fields, saw 9\\nSkipping line 180189: expected 8 fields, saw 9\\nSkipping line 185738: expected 8 fields, saw 9\\n'\n",
      "b'Skipping line 209388: expected 8 fields, saw 9\\nSkipping line 220626: expected 8 fields, saw 9\\nSkipping line 227933: expected 8 fields, saw 11\\nSkipping line 228957: expected 8 fields, saw 10\\nSkipping line 245933: expected 8 fields, saw 9\\nSkipping line 251296: expected 8 fields, saw 9\\nSkipping line 259941: expected 8 fields, saw 9\\nSkipping line 261529: expected 8 fields, saw 9\\n'\n",
      "C:\\Users\\moaaz\\AppData\\Local\\Temp/ipykernel_10608/1070825346.py:1: DtypeWarning: Columns (3) have mixed types. Specify dtype option on import or set low_memory=False.\n",
      "  books = pd.read_csv(r'D:/books.csv', sep=';', error_bad_lines = False, encoding='latin-1')\n",
      "C:\\Users\\moaaz\\AppData\\Local\\Temp/ipykernel_10608/1070825346.py:2: FutureWarning: The error_bad_lines argument has been deprecated and will be removed in a future version. Use on_bad_lines in the future.\n",
      "\n",
      "\n",
      "  users = pd.read_csv(r'D:/users.csv', sep=';',error_bad_lines = False, encoding='latin-1')\n",
      "C:\\Users\\moaaz\\AppData\\Local\\Temp/ipykernel_10608/1070825346.py:3: FutureWarning: The error_bad_lines argument has been deprecated and will be removed in a future version. Use on_bad_lines in the future.\n",
      "\n",
      "\n",
      "  ratings = pd.read_csv(r'D:/rating.csv',  sep=';',error_bad_lines = False, encoding='latin-1')\n"
     ]
    }
   ],
   "source": [
    "books = pd.read_csv(r'D:/books.csv', sep=';', error_bad_lines = False, encoding='latin-1')\n",
    "users = pd.read_csv(r'D:/users.csv', sep=';',error_bad_lines = False, encoding='latin-1')\n",
    "ratings = pd.read_csv(r'D:/rating.csv',  sep=';',error_bad_lines = False, encoding='latin-1')"
   ]
  },
  {
   "cell_type": "code",
   "execution_count": 11,
   "id": "dafdb086-d7c2-43cc-9db3-73ba2fc3c6cf",
   "metadata": {},
   "outputs": [
    {
     "data": {
      "text/plain": [
       "(278858, 3)"
      ]
     },
     "execution_count": 11,
     "metadata": {},
     "output_type": "execute_result"
    }
   ],
   "source": [
    "users.shape"
   ]
  },
  {
   "cell_type": "code",
   "execution_count": 13,
   "id": "4028945b-b096-47d2-8d34-9472baea7191",
   "metadata": {},
   "outputs": [
    {
     "data": {
      "text/plain": [
       "(271360, 8)"
      ]
     },
     "execution_count": 13,
     "metadata": {},
     "output_type": "execute_result"
    }
   ],
   "source": [
    "books.shape"
   ]
  },
  {
   "cell_type": "code",
   "execution_count": 28,
   "id": "760e6a55-d0da-4473-b83e-79468168c698",
   "metadata": {},
   "outputs": [
    {
     "data": {
      "text/plain": [
       "(1149780, 3)"
      ]
     },
     "execution_count": 28,
     "metadata": {},
     "output_type": "execute_result"
    }
   ],
   "source": [
    "ratings.shape"
   ]
  },
  {
   "cell_type": "code",
   "execution_count": 86,
   "id": "9bf1640e-63cc-4d88-8c43-1bdbef47c183",
   "metadata": {},
   "outputs": [
    {
     "data": {
      "text/plain": [
       "(105283,)"
      ]
     },
     "execution_count": 86,
     "metadata": {},
     "output_type": "execute_result"
    }
   ],
   "source": [
    "ratings['User-ID'].unique().shape  # A total of 105283 users gave rating."
   ]
  },
  {
   "cell_type": "code",
   "execution_count": null,
   "id": "4f3af813-2d44-42c1-8daa-c601dfef5439",
   "metadata": {},
   "outputs": [],
   "source": []
  },
  {
   "cell_type": "code",
   "execution_count": 270,
   "id": "0e0831c9-30d6-44e3-9314-664593d4fb52",
   "metadata": {},
   "outputs": [],
   "source": [
    "temp = ratings['User-ID'].value_counts() >  1 # Let's take out the user ids who rated more than 200 books\n",
    "processed= temp[temp]  # Users who gave 1more than 200 views"
   ]
  },
  {
   "cell_type": "code",
   "execution_count": 271,
   "id": "5dedf4c7-1b48-4763-a537-7012e60314c9",
   "metadata": {},
   "outputs": [
    {
     "data": {
      "text/plain": [
       "(46117,)"
      ]
     },
     "execution_count": 271,
     "metadata": {},
     "output_type": "execute_result"
    }
   ],
   "source": [
    "processed.shape  # Only 899 users gave more than 200 reviews"
   ]
  },
  {
   "cell_type": "code",
   "execution_count": 272,
   "id": "2f1abeff-dadc-4571-b141-e25861d5debd",
   "metadata": {},
   "outputs": [],
   "source": [
    "indices = processed.index   # Let's store the indices of the users who gave more than 200 ratings"
   ]
  },
  {
   "cell_type": "code",
   "execution_count": 273,
   "id": "978b60bc-391c-4988-acaf-d4b0500cbf45",
   "metadata": {},
   "outputs": [],
   "source": [
    "final_ratings=ratings[ratings['User-ID'].isin(indices)]"
   ]
  },
  {
   "cell_type": "code",
   "execution_count": 274,
   "id": "079a3e92-9c4d-48aa-8ad2-84258789c07e",
   "metadata": {},
   "outputs": [
    {
     "data": {
      "text/html": [
       "<div><div id=487053c8-cec3-4a4d-8a56-fc24657c0dfb style=\"display:none; background-color:#9D6CFF; color:white; width:200px; height:30px; padding-left:5px; border-radius:4px; flex-direction:row; justify-content:space-around; align-items:center;\" onmouseover=\"this.style.backgroundColor='#BA9BF8'\" onmouseout=\"this.style.backgroundColor='#9D6CFF'\" onclick=\"window.commands?.execute('create-mitosheet-from-dataframe-output');\">See Full Dataframe in Mito</div> <script> if (window.commands?.hasCommand('create-mitosheet-from-dataframe-output')) document.getElementById('487053c8-cec3-4a4d-8a56-fc24657c0dfb').style.display = 'flex' </script> <table border=\"1\" class=\"dataframe\">\n",
       "  <thead>\n",
       "    <tr style=\"text-align: right;\">\n",
       "      <th></th>\n",
       "      <th>User-ID</th>\n",
       "      <th>ISBN</th>\n",
       "      <th>Book-Rating</th>\n",
       "    </tr>\n",
       "  </thead>\n",
       "  <tbody>\n",
       "    <tr>\n",
       "      <th>3</th>\n",
       "      <td>276729</td>\n",
       "      <td>052165615X</td>\n",
       "      <td>3</td>\n",
       "    </tr>\n",
       "    <tr>\n",
       "      <th>4</th>\n",
       "      <td>276729</td>\n",
       "      <td>0521795028</td>\n",
       "      <td>6</td>\n",
       "    </tr>\n",
       "    <tr>\n",
       "      <th>10</th>\n",
       "      <td>276746</td>\n",
       "      <td>0425115801</td>\n",
       "      <td>0</td>\n",
       "    </tr>\n",
       "    <tr>\n",
       "      <th>11</th>\n",
       "      <td>276746</td>\n",
       "      <td>0449006522</td>\n",
       "      <td>0</td>\n",
       "    </tr>\n",
       "    <tr>\n",
       "      <th>12</th>\n",
       "      <td>276746</td>\n",
       "      <td>0553561618</td>\n",
       "      <td>0</td>\n",
       "    </tr>\n",
       "  </tbody>\n",
       "</table></div>"
      ],
      "text/plain": [
       "    User-ID        ISBN  Book-Rating\n",
       "3    276729  052165615X            3\n",
       "4    276729  0521795028            6\n",
       "10   276746  0425115801            0\n",
       "11   276746  0449006522            0\n",
       "12   276746  0553561618            0"
      ]
     },
     "execution_count": 274,
     "metadata": {},
     "output_type": "execute_result"
    }
   ],
   "source": [
    "final_ratings.head()  # Dataframe of users who gave more than 200 ratings"
   ]
  },
  {
   "cell_type": "code",
   "execution_count": 275,
   "id": "02a9475b-5e40-4b1e-b4f7-19e913395cdd",
   "metadata": {},
   "outputs": [
    {
     "data": {
      "text/plain": [
       "(1090614, 3)"
      ]
     },
     "execution_count": 275,
     "metadata": {},
     "output_type": "execute_result"
    }
   ],
   "source": [
    "final_ratings.shape"
   ]
  },
  {
   "cell_type": "code",
   "execution_count": 276,
   "id": "c3ef2735-bafd-4dba-ad24-0b09cafa8f8b",
   "metadata": {},
   "outputs": [],
   "source": [
    "ratings_with_name = final_ratings.merge(books, on='ISBN')\n"
   ]
  },
  {
   "cell_type": "code",
   "execution_count": 277,
   "id": "1b4a2de1-c022-4afb-ba5a-07ea9ad5d947",
   "metadata": {
    "tags": []
   },
   "outputs": [],
   "source": [
    "no_of_ratings_for_each_book = ratings_with_name.groupby('Book-Title')[['Book-Rating']].count().reset_index()\n",
    "no_of_ratings_for_each_book = no_of_ratings_for_each_book.rename(columns = {\"Book-Rating\":\"No of rating\"})"
   ]
  },
  {
   "cell_type": "code",
   "execution_count": 278,
   "id": "4212c6eb-5ccb-4e0a-85f4-893ec3c0ff48",
   "metadata": {},
   "outputs": [
    {
     "data": {
      "text/html": [
       "<div><div id=9bfe3d9a-454f-4e53-a6ad-175f72d647eb style=\"display:none; background-color:#9D6CFF; color:white; width:200px; height:30px; padding-left:5px; border-radius:4px; flex-direction:row; justify-content:space-around; align-items:center;\" onmouseover=\"this.style.backgroundColor='#BA9BF8'\" onmouseout=\"this.style.backgroundColor='#9D6CFF'\" onclick=\"window.commands?.execute('create-mitosheet-from-dataframe-output');\">See Full Dataframe in Mito</div> <script> if (window.commands?.hasCommand('create-mitosheet-from-dataframe-output')) document.getElementById('9bfe3d9a-454f-4e53-a6ad-175f72d647eb').style.display = 'flex' </script> <table border=\"1\" class=\"dataframe\">\n",
       "  <thead>\n",
       "    <tr style=\"text-align: right;\">\n",
       "      <th></th>\n",
       "      <th>Book-Title</th>\n",
       "      <th>No of rating</th>\n",
       "    </tr>\n",
       "  </thead>\n",
       "  <tbody>\n",
       "    <tr>\n",
       "      <th>0</th>\n",
       "      <td>A Light in the Storm: The Civil War Diary of Amelia Martin, Fenwick Island, Delaware, 1861 (Dear America)</td>\n",
       "      <td>4</td>\n",
       "    </tr>\n",
       "    <tr>\n",
       "      <th>1</th>\n",
       "      <td>Always Have Popsicles</td>\n",
       "      <td>1</td>\n",
       "    </tr>\n",
       "    <tr>\n",
       "      <th>2</th>\n",
       "      <td>Apple Magic (The Collector's series)</td>\n",
       "      <td>1</td>\n",
       "    </tr>\n",
       "    <tr>\n",
       "      <th>3</th>\n",
       "      <td>Ask Lily (Young Women of Faith: Lily Series, Book 5)</td>\n",
       "      <td>1</td>\n",
       "    </tr>\n",
       "    <tr>\n",
       "      <th>4</th>\n",
       "      <td>Beyond IBM: Leadership Marketing and Finance for the 1990s</td>\n",
       "      <td>1</td>\n",
       "    </tr>\n",
       "    <tr>\n",
       "      <th>...</th>\n",
       "      <td>...</td>\n",
       "      <td>...</td>\n",
       "    </tr>\n",
       "    <tr>\n",
       "      <th>236965</th>\n",
       "      <td>Ã?Â?lpiraten.</td>\n",
       "      <td>2</td>\n",
       "    </tr>\n",
       "    <tr>\n",
       "      <th>236966</th>\n",
       "      <td>Ã?Â?rger mit Produkt X. Roman.</td>\n",
       "      <td>4</td>\n",
       "    </tr>\n",
       "    <tr>\n",
       "      <th>236967</th>\n",
       "      <td>Ã?Â?sterlich leben.</td>\n",
       "      <td>1</td>\n",
       "    </tr>\n",
       "    <tr>\n",
       "      <th>236968</th>\n",
       "      <td>Ã?Â?stlich der Berge.</td>\n",
       "      <td>3</td>\n",
       "    </tr>\n",
       "    <tr>\n",
       "      <th>236969</th>\n",
       "      <td>Ã?Â?thique en toc</td>\n",
       "      <td>2</td>\n",
       "    </tr>\n",
       "  </tbody>\n",
       "</table></div>"
      ],
      "text/plain": [
       "                                               Book-Title  No of rating\n",
       "0        A Light in the Storm: The Civil War Diary of ...             4\n",
       "1                                   Always Have Popsicles             1\n",
       "2                    Apple Magic (The Collector's series)             1\n",
       "3        Ask Lily (Young Women of Faith: Lily Series, ...             1\n",
       "4        Beyond IBM: Leadership Marketing and Finance ...             1\n",
       "...                                                   ...           ...\n",
       "236965                                      Ã?Â?lpiraten.             2\n",
       "236966                     Ã?Â?rger mit Produkt X. Roman.             4\n",
       "236967                                Ã?Â?sterlich leben.             1\n",
       "236968                              Ã?Â?stlich der Berge.             3\n",
       "236969                                  Ã?Â?thique en toc             2\n",
       "\n",
       "[236970 rows x 2 columns]"
      ]
     },
     "execution_count": 278,
     "metadata": {},
     "output_type": "execute_result"
    }
   ],
   "source": [
    "no_of_ratings_for_each_book"
   ]
  },
  {
   "cell_type": "code",
   "execution_count": 310,
   "id": "01cedbae-69df-459e-be19-22725df6e0ef",
   "metadata": {},
   "outputs": [],
   "source": [
    "gg = no_of_ratings_for_each_book.merge(ratings_with_name, on='Book-Title')"
   ]
  },
  {
   "cell_type": "code",
   "execution_count": 311,
   "id": "e0a4424e-5bfc-4ce6-8069-459ce8087e8c",
   "metadata": {},
   "outputs": [],
   "source": [
    "gg=gg[gg['No of rating']>=20]"
   ]
  },
  {
   "cell_type": "code",
   "execution_count": 312,
   "id": "c1b7ab23-22f9-4c70-b111-1e67560fd2c6",
   "metadata": {},
   "outputs": [
    {
     "data": {
      "text/plain": [
       "(410535, 11)"
      ]
     },
     "execution_count": 312,
     "metadata": {},
     "output_type": "execute_result"
    }
   ],
   "source": [
    "gg.shape"
   ]
  },
  {
   "cell_type": "code",
   "execution_count": 313,
   "id": "290d3fc7-aa03-426b-addd-a3df7593ee8f",
   "metadata": {},
   "outputs": [],
   "source": [
    "gg=gg.drop_duplicates(['User-ID', 'Book-Title'])"
   ]
  },
  {
   "cell_type": "code",
   "execution_count": 314,
   "id": "7f9566b1-b76d-4ed9-9f5f-44337e4ab7de",
   "metadata": {},
   "outputs": [
    {
     "data": {
      "text/plain": [
       "(406528, 11)"
      ]
     },
     "execution_count": 314,
     "metadata": {},
     "output_type": "execute_result"
    }
   ],
   "source": [
    "gg.shape"
   ]
  },
  {
   "cell_type": "code",
   "execution_count": 315,
   "id": "01f02dfe-61ca-4945-9b16-a44343a39169",
   "metadata": {},
   "outputs": [],
   "source": [
    "pt = gg.pivot_table(index='Book-Title',columns='User-ID',values='Book-Rating')\n"
   ]
  },
  {
   "cell_type": "code",
   "execution_count": 316,
   "id": "4b049cb2-ae79-4d9a-97e7-ddb626a52c4d",
   "metadata": {},
   "outputs": [],
   "source": [
    "pt=pt.fillna(0)"
   ]
  },
  {
   "cell_type": "code",
   "execution_count": 317,
   "id": "a11a7aad-dd39-4452-88ec-2e7610979926",
   "metadata": {},
   "outputs": [
    {
     "data": {
      "text/html": [
       "<div><div id=c96a68fc-a4cd-4319-b566-9eee28dcc733 style=\"display:none; background-color:#9D6CFF; color:white; width:200px; height:30px; padding-left:5px; border-radius:4px; flex-direction:row; justify-content:space-around; align-items:center;\" onmouseover=\"this.style.backgroundColor='#BA9BF8'\" onmouseout=\"this.style.backgroundColor='#9D6CFF'\" onclick=\"window.commands?.execute('create-mitosheet-from-dataframe-output');\">See Full Dataframe in Mito</div> <script> if (window.commands?.hasCommand('create-mitosheet-from-dataframe-output')) document.getElementById('c96a68fc-a4cd-4319-b566-9eee28dcc733').style.display = 'flex' </script> <table border=\"1\" class=\"dataframe\">\n",
       "  <thead>\n",
       "    <tr style=\"text-align: right;\">\n",
       "      <th>User-ID</th>\n",
       "      <th>8</th>\n",
       "      <th>9</th>\n",
       "      <th>10</th>\n",
       "      <th>14</th>\n",
       "      <th>16</th>\n",
       "      <th>17</th>\n",
       "      <th>26</th>\n",
       "      <th>32</th>\n",
       "      <th>39</th>\n",
       "      <th>44</th>\n",
       "      <th>...</th>\n",
       "      <th>278798</th>\n",
       "      <th>278818</th>\n",
       "      <th>278832</th>\n",
       "      <th>278838</th>\n",
       "      <th>278843</th>\n",
       "      <th>278844</th>\n",
       "      <th>278846</th>\n",
       "      <th>278849</th>\n",
       "      <th>278851</th>\n",
       "      <th>278854</th>\n",
       "    </tr>\n",
       "    <tr>\n",
       "      <th>Book-Title</th>\n",
       "      <th></th>\n",
       "      <th></th>\n",
       "      <th></th>\n",
       "      <th></th>\n",
       "      <th></th>\n",
       "      <th></th>\n",
       "      <th></th>\n",
       "      <th></th>\n",
       "      <th></th>\n",
       "      <th></th>\n",
       "      <th></th>\n",
       "      <th></th>\n",
       "      <th></th>\n",
       "      <th></th>\n",
       "      <th></th>\n",
       "      <th></th>\n",
       "      <th></th>\n",
       "      <th></th>\n",
       "      <th></th>\n",
       "      <th></th>\n",
       "      <th></th>\n",
       "    </tr>\n",
       "  </thead>\n",
       "  <tbody>\n",
       "    <tr>\n",
       "      <th>'Salem's Lot</th>\n",
       "      <td>0.0</td>\n",
       "      <td>0.0</td>\n",
       "      <td>0.0</td>\n",
       "      <td>0.0</td>\n",
       "      <td>0.0</td>\n",
       "      <td>0.0</td>\n",
       "      <td>0.0</td>\n",
       "      <td>0.0</td>\n",
       "      <td>0.0</td>\n",
       "      <td>0.0</td>\n",
       "      <td>...</td>\n",
       "      <td>0.0</td>\n",
       "      <td>0.0</td>\n",
       "      <td>0.0</td>\n",
       "      <td>0.0</td>\n",
       "      <td>0.0</td>\n",
       "      <td>0.0</td>\n",
       "      <td>0.0</td>\n",
       "      <td>0.0</td>\n",
       "      <td>0.0</td>\n",
       "      <td>0.0</td>\n",
       "    </tr>\n",
       "    <tr>\n",
       "      <th>01-01-00: The Novel of the Millennium</th>\n",
       "      <td>0.0</td>\n",
       "      <td>0.0</td>\n",
       "      <td>0.0</td>\n",
       "      <td>0.0</td>\n",
       "      <td>0.0</td>\n",
       "      <td>0.0</td>\n",
       "      <td>0.0</td>\n",
       "      <td>0.0</td>\n",
       "      <td>0.0</td>\n",
       "      <td>0.0</td>\n",
       "      <td>...</td>\n",
       "      <td>0.0</td>\n",
       "      <td>0.0</td>\n",
       "      <td>0.0</td>\n",
       "      <td>0.0</td>\n",
       "      <td>0.0</td>\n",
       "      <td>0.0</td>\n",
       "      <td>0.0</td>\n",
       "      <td>0.0</td>\n",
       "      <td>0.0</td>\n",
       "      <td>0.0</td>\n",
       "    </tr>\n",
       "    <tr>\n",
       "      <th>10 Lb. Penalty</th>\n",
       "      <td>0.0</td>\n",
       "      <td>0.0</td>\n",
       "      <td>0.0</td>\n",
       "      <td>0.0</td>\n",
       "      <td>0.0</td>\n",
       "      <td>0.0</td>\n",
       "      <td>0.0</td>\n",
       "      <td>0.0</td>\n",
       "      <td>0.0</td>\n",
       "      <td>0.0</td>\n",
       "      <td>...</td>\n",
       "      <td>0.0</td>\n",
       "      <td>0.0</td>\n",
       "      <td>0.0</td>\n",
       "      <td>0.0</td>\n",
       "      <td>0.0</td>\n",
       "      <td>0.0</td>\n",
       "      <td>0.0</td>\n",
       "      <td>0.0</td>\n",
       "      <td>0.0</td>\n",
       "      <td>0.0</td>\n",
       "    </tr>\n",
       "    <tr>\n",
       "      <th>1001 Ways to Be Romantic</th>\n",
       "      <td>0.0</td>\n",
       "      <td>0.0</td>\n",
       "      <td>0.0</td>\n",
       "      <td>0.0</td>\n",
       "      <td>0.0</td>\n",
       "      <td>0.0</td>\n",
       "      <td>0.0</td>\n",
       "      <td>0.0</td>\n",
       "      <td>0.0</td>\n",
       "      <td>0.0</td>\n",
       "      <td>...</td>\n",
       "      <td>0.0</td>\n",
       "      <td>0.0</td>\n",
       "      <td>0.0</td>\n",
       "      <td>0.0</td>\n",
       "      <td>0.0</td>\n",
       "      <td>0.0</td>\n",
       "      <td>0.0</td>\n",
       "      <td>0.0</td>\n",
       "      <td>0.0</td>\n",
       "      <td>0.0</td>\n",
       "    </tr>\n",
       "    <tr>\n",
       "      <th>101 Dalmatians</th>\n",
       "      <td>0.0</td>\n",
       "      <td>0.0</td>\n",
       "      <td>0.0</td>\n",
       "      <td>0.0</td>\n",
       "      <td>0.0</td>\n",
       "      <td>0.0</td>\n",
       "      <td>0.0</td>\n",
       "      <td>0.0</td>\n",
       "      <td>0.0</td>\n",
       "      <td>0.0</td>\n",
       "      <td>...</td>\n",
       "      <td>0.0</td>\n",
       "      <td>0.0</td>\n",
       "      <td>0.0</td>\n",
       "      <td>0.0</td>\n",
       "      <td>0.0</td>\n",
       "      <td>0.0</td>\n",
       "      <td>0.0</td>\n",
       "      <td>0.0</td>\n",
       "      <td>0.0</td>\n",
       "      <td>0.0</td>\n",
       "    </tr>\n",
       "    <tr>\n",
       "      <th>...</th>\n",
       "      <td>...</td>\n",
       "      <td>...</td>\n",
       "      <td>...</td>\n",
       "      <td>...</td>\n",
       "      <td>...</td>\n",
       "      <td>...</td>\n",
       "      <td>...</td>\n",
       "      <td>...</td>\n",
       "      <td>...</td>\n",
       "      <td>...</td>\n",
       "      <td>...</td>\n",
       "      <td>...</td>\n",
       "      <td>...</td>\n",
       "      <td>...</td>\n",
       "      <td>...</td>\n",
       "      <td>...</td>\n",
       "      <td>...</td>\n",
       "      <td>...</td>\n",
       "      <td>...</td>\n",
       "      <td>...</td>\n",
       "      <td>...</td>\n",
       "    </tr>\n",
       "    <tr>\n",
       "      <th>\\O\\\" Is for Outlaw\"</th>\n",
       "      <td>0.0</td>\n",
       "      <td>0.0</td>\n",
       "      <td>0.0</td>\n",
       "      <td>0.0</td>\n",
       "      <td>0.0</td>\n",
       "      <td>0.0</td>\n",
       "      <td>0.0</td>\n",
       "      <td>0.0</td>\n",
       "      <td>0.0</td>\n",
       "      <td>0.0</td>\n",
       "      <td>...</td>\n",
       "      <td>0.0</td>\n",
       "      <td>0.0</td>\n",
       "      <td>0.0</td>\n",
       "      <td>0.0</td>\n",
       "      <td>0.0</td>\n",
       "      <td>0.0</td>\n",
       "      <td>0.0</td>\n",
       "      <td>0.0</td>\n",
       "      <td>0.0</td>\n",
       "      <td>0.0</td>\n",
       "    </tr>\n",
       "    <tr>\n",
       "      <th>\\Surely You're Joking, Mr. Feynman!\\\": Adventures of a Curious Character\"</th>\n",
       "      <td>0.0</td>\n",
       "      <td>0.0</td>\n",
       "      <td>0.0</td>\n",
       "      <td>0.0</td>\n",
       "      <td>0.0</td>\n",
       "      <td>0.0</td>\n",
       "      <td>0.0</td>\n",
       "      <td>0.0</td>\n",
       "      <td>0.0</td>\n",
       "      <td>0.0</td>\n",
       "      <td>...</td>\n",
       "      <td>0.0</td>\n",
       "      <td>0.0</td>\n",
       "      <td>0.0</td>\n",
       "      <td>0.0</td>\n",
       "      <td>0.0</td>\n",
       "      <td>0.0</td>\n",
       "      <td>0.0</td>\n",
       "      <td>0.0</td>\n",
       "      <td>0.0</td>\n",
       "      <td>0.0</td>\n",
       "    </tr>\n",
       "    <tr>\n",
       "      <th>e</th>\n",
       "      <td>0.0</td>\n",
       "      <td>0.0</td>\n",
       "      <td>0.0</td>\n",
       "      <td>0.0</td>\n",
       "      <td>0.0</td>\n",
       "      <td>0.0</td>\n",
       "      <td>0.0</td>\n",
       "      <td>0.0</td>\n",
       "      <td>0.0</td>\n",
       "      <td>0.0</td>\n",
       "      <td>...</td>\n",
       "      <td>0.0</td>\n",
       "      <td>0.0</td>\n",
       "      <td>0.0</td>\n",
       "      <td>0.0</td>\n",
       "      <td>0.0</td>\n",
       "      <td>0.0</td>\n",
       "      <td>0.0</td>\n",
       "      <td>0.0</td>\n",
       "      <td>0.0</td>\n",
       "      <td>0.0</td>\n",
       "    </tr>\n",
       "    <tr>\n",
       "      <th>one hundred years of solitude</th>\n",
       "      <td>0.0</td>\n",
       "      <td>0.0</td>\n",
       "      <td>0.0</td>\n",
       "      <td>0.0</td>\n",
       "      <td>0.0</td>\n",
       "      <td>0.0</td>\n",
       "      <td>0.0</td>\n",
       "      <td>0.0</td>\n",
       "      <td>0.0</td>\n",
       "      <td>0.0</td>\n",
       "      <td>...</td>\n",
       "      <td>0.0</td>\n",
       "      <td>0.0</td>\n",
       "      <td>0.0</td>\n",
       "      <td>0.0</td>\n",
       "      <td>0.0</td>\n",
       "      <td>0.0</td>\n",
       "      <td>0.0</td>\n",
       "      <td>0.0</td>\n",
       "      <td>0.0</td>\n",
       "      <td>0.0</td>\n",
       "    </tr>\n",
       "    <tr>\n",
       "      <th>stardust</th>\n",
       "      <td>0.0</td>\n",
       "      <td>0.0</td>\n",
       "      <td>0.0</td>\n",
       "      <td>0.0</td>\n",
       "      <td>0.0</td>\n",
       "      <td>0.0</td>\n",
       "      <td>0.0</td>\n",
       "      <td>0.0</td>\n",
       "      <td>0.0</td>\n",
       "      <td>0.0</td>\n",
       "      <td>...</td>\n",
       "      <td>0.0</td>\n",
       "      <td>0.0</td>\n",
       "      <td>0.0</td>\n",
       "      <td>0.0</td>\n",
       "      <td>0.0</td>\n",
       "      <td>0.0</td>\n",
       "      <td>0.0</td>\n",
       "      <td>0.0</td>\n",
       "      <td>0.0</td>\n",
       "      <td>0.0</td>\n",
       "    </tr>\n",
       "  </tbody>\n",
       "</table></div>"
      ],
      "text/plain": [
       "User-ID                                             8       9       10      \\\n",
       "Book-Title                                                                   \n",
       "'Salem's Lot                                           0.0     0.0     0.0   \n",
       "01-01-00: The Novel of the Millennium                  0.0     0.0     0.0   \n",
       "10 Lb. Penalty                                         0.0     0.0     0.0   \n",
       "1001 Ways to Be Romantic                               0.0     0.0     0.0   \n",
       "101 Dalmatians                                         0.0     0.0     0.0   \n",
       "...                                                    ...     ...     ...   \n",
       "\\O\\\" Is for Outlaw\"                                    0.0     0.0     0.0   \n",
       "\\Surely You're Joking, Mr. Feynman!\\\": Adventur...     0.0     0.0     0.0   \n",
       "e                                                      0.0     0.0     0.0   \n",
       "one hundred years of solitude                          0.0     0.0     0.0   \n",
       "stardust                                               0.0     0.0     0.0   \n",
       "\n",
       "User-ID                                             14      16      17      \\\n",
       "Book-Title                                                                   \n",
       "'Salem's Lot                                           0.0     0.0     0.0   \n",
       "01-01-00: The Novel of the Millennium                  0.0     0.0     0.0   \n",
       "10 Lb. Penalty                                         0.0     0.0     0.0   \n",
       "1001 Ways to Be Romantic                               0.0     0.0     0.0   \n",
       "101 Dalmatians                                         0.0     0.0     0.0   \n",
       "...                                                    ...     ...     ...   \n",
       "\\O\\\" Is for Outlaw\"                                    0.0     0.0     0.0   \n",
       "\\Surely You're Joking, Mr. Feynman!\\\": Adventur...     0.0     0.0     0.0   \n",
       "e                                                      0.0     0.0     0.0   \n",
       "one hundred years of solitude                          0.0     0.0     0.0   \n",
       "stardust                                               0.0     0.0     0.0   \n",
       "\n",
       "User-ID                                             26      32      39      \\\n",
       "Book-Title                                                                   \n",
       "'Salem's Lot                                           0.0     0.0     0.0   \n",
       "01-01-00: The Novel of the Millennium                  0.0     0.0     0.0   \n",
       "10 Lb. Penalty                                         0.0     0.0     0.0   \n",
       "1001 Ways to Be Romantic                               0.0     0.0     0.0   \n",
       "101 Dalmatians                                         0.0     0.0     0.0   \n",
       "...                                                    ...     ...     ...   \n",
       "\\O\\\" Is for Outlaw\"                                    0.0     0.0     0.0   \n",
       "\\Surely You're Joking, Mr. Feynman!\\\": Adventur...     0.0     0.0     0.0   \n",
       "e                                                      0.0     0.0     0.0   \n",
       "one hundred years of solitude                          0.0     0.0     0.0   \n",
       "stardust                                               0.0     0.0     0.0   \n",
       "\n",
       "User-ID                                             44      ...  278798  \\\n",
       "Book-Title                                                  ...           \n",
       "'Salem's Lot                                           0.0  ...     0.0   \n",
       "01-01-00: The Novel of the Millennium                  0.0  ...     0.0   \n",
       "10 Lb. Penalty                                         0.0  ...     0.0   \n",
       "1001 Ways to Be Romantic                               0.0  ...     0.0   \n",
       "101 Dalmatians                                         0.0  ...     0.0   \n",
       "...                                                    ...  ...     ...   \n",
       "\\O\\\" Is for Outlaw\"                                    0.0  ...     0.0   \n",
       "\\Surely You're Joking, Mr. Feynman!\\\": Adventur...     0.0  ...     0.0   \n",
       "e                                                      0.0  ...     0.0   \n",
       "one hundred years of solitude                          0.0  ...     0.0   \n",
       "stardust                                               0.0  ...     0.0   \n",
       "\n",
       "User-ID                                             278818  278832  278838  \\\n",
       "Book-Title                                                                   \n",
       "'Salem's Lot                                           0.0     0.0     0.0   \n",
       "01-01-00: The Novel of the Millennium                  0.0     0.0     0.0   \n",
       "10 Lb. Penalty                                         0.0     0.0     0.0   \n",
       "1001 Ways to Be Romantic                               0.0     0.0     0.0   \n",
       "101 Dalmatians                                         0.0     0.0     0.0   \n",
       "...                                                    ...     ...     ...   \n",
       "\\O\\\" Is for Outlaw\"                                    0.0     0.0     0.0   \n",
       "\\Surely You're Joking, Mr. Feynman!\\\": Adventur...     0.0     0.0     0.0   \n",
       "e                                                      0.0     0.0     0.0   \n",
       "one hundred years of solitude                          0.0     0.0     0.0   \n",
       "stardust                                               0.0     0.0     0.0   \n",
       "\n",
       "User-ID                                             278843  278844  278846  \\\n",
       "Book-Title                                                                   \n",
       "'Salem's Lot                                           0.0     0.0     0.0   \n",
       "01-01-00: The Novel of the Millennium                  0.0     0.0     0.0   \n",
       "10 Lb. Penalty                                         0.0     0.0     0.0   \n",
       "1001 Ways to Be Romantic                               0.0     0.0     0.0   \n",
       "101 Dalmatians                                         0.0     0.0     0.0   \n",
       "...                                                    ...     ...     ...   \n",
       "\\O\\\" Is for Outlaw\"                                    0.0     0.0     0.0   \n",
       "\\Surely You're Joking, Mr. Feynman!\\\": Adventur...     0.0     0.0     0.0   \n",
       "e                                                      0.0     0.0     0.0   \n",
       "one hundred years of solitude                          0.0     0.0     0.0   \n",
       "stardust                                               0.0     0.0     0.0   \n",
       "\n",
       "User-ID                                             278849  278851  278854  \n",
       "Book-Title                                                                  \n",
       "'Salem's Lot                                           0.0     0.0     0.0  \n",
       "01-01-00: The Novel of the Millennium                  0.0     0.0     0.0  \n",
       "10 Lb. Penalty                                         0.0     0.0     0.0  \n",
       "1001 Ways to Be Romantic                               0.0     0.0     0.0  \n",
       "101 Dalmatians                                         0.0     0.0     0.0  \n",
       "...                                                    ...     ...     ...  \n",
       "\\O\\\" Is for Outlaw\"                                    0.0     0.0     0.0  \n",
       "\\Surely You're Joking, Mr. Feynman!\\\": Adventur...     0.0     0.0     0.0  \n",
       "e                                                      0.0     0.0     0.0  \n",
       "one hundred years of solitude                          0.0     0.0     0.0  \n",
       "stardust                                               0.0     0.0     0.0  \n",
       "\n",
       "[7223 rows x 34905 columns]"
      ]
     },
     "execution_count": 317,
     "metadata": {},
     "output_type": "execute_result"
    }
   ],
   "source": [
    "pt"
   ]
  },
  {
   "cell_type": "code",
   "execution_count": 318,
   "id": "03e81c69-a80d-47d0-97b9-4e54bbfbfc8f",
   "metadata": {},
   "outputs": [],
   "source": [
    "from scipy.sparse import csr_matrix"
   ]
  },
  {
   "cell_type": "code",
   "execution_count": 319,
   "id": "993272e2-8f61-40fe-8828-b5528f6fdf17",
   "metadata": {},
   "outputs": [],
   "source": [
    "pt_sparse = csr_matrix(pt)"
   ]
  },
  {
   "cell_type": "code",
   "execution_count": 320,
   "id": "31a98e90-d58f-40e0-9151-63e225b052a5",
   "metadata": {},
   "outputs": [
    {
     "data": {
      "text/plain": [
       "<7223x34905 sparse matrix of type '<class 'numpy.float64'>'\n",
       "\twith 151371 stored elements in Compressed Sparse Row format>"
      ]
     },
     "execution_count": 320,
     "metadata": {},
     "output_type": "execute_result"
    }
   ],
   "source": [
    "\n",
    "pt_sparse"
   ]
  },
  {
   "cell_type": "code",
   "execution_count": 321,
   "id": "274fa5dc-a923-4090-83b0-872d0eccb06f",
   "metadata": {},
   "outputs": [],
   "source": [
    "from sklearn.neighbors import NearestNeighbors as NN"
   ]
  },
  {
   "cell_type": "code",
   "execution_count": 322,
   "id": "ccdaf6fc-06cc-4289-8e0e-caf024fcd872",
   "metadata": {},
   "outputs": [],
   "source": [
    "model = NN(algorithm='brute')"
   ]
  },
  {
   "cell_type": "code",
   "execution_count": 323,
   "id": "9a38c0b6-eef2-4336-af4a-d641251585a3",
   "metadata": {},
   "outputs": [
    {
     "data": {
      "text/html": [
       "<style>#sk-container-id-5 {color: black;background-color: white;}#sk-container-id-5 pre{padding: 0;}#sk-container-id-5 div.sk-toggleable {background-color: white;}#sk-container-id-5 label.sk-toggleable__label {cursor: pointer;display: block;width: 100%;margin-bottom: 0;padding: 0.3em;box-sizing: border-box;text-align: center;}#sk-container-id-5 label.sk-toggleable__label-arrow:before {content: \"▸\";float: left;margin-right: 0.25em;color: #696969;}#sk-container-id-5 label.sk-toggleable__label-arrow:hover:before {color: black;}#sk-container-id-5 div.sk-estimator:hover label.sk-toggleable__label-arrow:before {color: black;}#sk-container-id-5 div.sk-toggleable__content {max-height: 0;max-width: 0;overflow: hidden;text-align: left;background-color: #f0f8ff;}#sk-container-id-5 div.sk-toggleable__content pre {margin: 0.2em;color: black;border-radius: 0.25em;background-color: #f0f8ff;}#sk-container-id-5 input.sk-toggleable__control:checked~div.sk-toggleable__content {max-height: 200px;max-width: 100%;overflow: auto;}#sk-container-id-5 input.sk-toggleable__control:checked~label.sk-toggleable__label-arrow:before {content: \"▾\";}#sk-container-id-5 div.sk-estimator input.sk-toggleable__control:checked~label.sk-toggleable__label {background-color: #d4ebff;}#sk-container-id-5 div.sk-label input.sk-toggleable__control:checked~label.sk-toggleable__label {background-color: #d4ebff;}#sk-container-id-5 input.sk-hidden--visually {border: 0;clip: rect(1px 1px 1px 1px);clip: rect(1px, 1px, 1px, 1px);height: 1px;margin: -1px;overflow: hidden;padding: 0;position: absolute;width: 1px;}#sk-container-id-5 div.sk-estimator {font-family: monospace;background-color: #f0f8ff;border: 1px dotted black;border-radius: 0.25em;box-sizing: border-box;margin-bottom: 0.5em;}#sk-container-id-5 div.sk-estimator:hover {background-color: #d4ebff;}#sk-container-id-5 div.sk-parallel-item::after {content: \"\";width: 100%;border-bottom: 1px solid gray;flex-grow: 1;}#sk-container-id-5 div.sk-label:hover label.sk-toggleable__label {background-color: #d4ebff;}#sk-container-id-5 div.sk-serial::before {content: \"\";position: absolute;border-left: 1px solid gray;box-sizing: border-box;top: 0;bottom: 0;left: 50%;z-index: 0;}#sk-container-id-5 div.sk-serial {display: flex;flex-direction: column;align-items: center;background-color: white;padding-right: 0.2em;padding-left: 0.2em;position: relative;}#sk-container-id-5 div.sk-item {position: relative;z-index: 1;}#sk-container-id-5 div.sk-parallel {display: flex;align-items: stretch;justify-content: center;background-color: white;position: relative;}#sk-container-id-5 div.sk-item::before, #sk-container-id-5 div.sk-parallel-item::before {content: \"\";position: absolute;border-left: 1px solid gray;box-sizing: border-box;top: 0;bottom: 0;left: 50%;z-index: -1;}#sk-container-id-5 div.sk-parallel-item {display: flex;flex-direction: column;z-index: 1;position: relative;background-color: white;}#sk-container-id-5 div.sk-parallel-item:first-child::after {align-self: flex-end;width: 50%;}#sk-container-id-5 div.sk-parallel-item:last-child::after {align-self: flex-start;width: 50%;}#sk-container-id-5 div.sk-parallel-item:only-child::after {width: 0;}#sk-container-id-5 div.sk-dashed-wrapped {border: 1px dashed gray;margin: 0 0.4em 0.5em 0.4em;box-sizing: border-box;padding-bottom: 0.4em;background-color: white;}#sk-container-id-5 div.sk-label label {font-family: monospace;font-weight: bold;display: inline-block;line-height: 1.2em;}#sk-container-id-5 div.sk-label-container {text-align: center;}#sk-container-id-5 div.sk-container {/* jupyter's `normalize.less` sets `[hidden] { display: none; }` but bootstrap.min.css set `[hidden] { display: none !important; }` so we also need the `!important` here to be able to override the default hidden behavior on the sphinx rendered scikit-learn.org. See: https://github.com/scikit-learn/scikit-learn/issues/21755 */display: inline-block !important;position: relative;}#sk-container-id-5 div.sk-text-repr-fallback {display: none;}</style><div id=\"sk-container-id-5\" class=\"sk-top-container\"><div class=\"sk-text-repr-fallback\"><pre>NearestNeighbors(algorithm=&#x27;brute&#x27;)</pre><b>In a Jupyter environment, please rerun this cell to show the HTML representation or trust the notebook. <br />On GitHub, the HTML representation is unable to render, please try loading this page with nbviewer.org.</b></div><div class=\"sk-container\" hidden><div class=\"sk-item\"><div class=\"sk-estimator sk-toggleable\"><input class=\"sk-toggleable__control sk-hidden--visually\" id=\"sk-estimator-id-5\" type=\"checkbox\" checked><label for=\"sk-estimator-id-5\" class=\"sk-toggleable__label sk-toggleable__label-arrow\">NearestNeighbors</label><div class=\"sk-toggleable__content\"><pre>NearestNeighbors(algorithm=&#x27;brute&#x27;)</pre></div></div></div></div></div>"
      ],
      "text/plain": [
       "NearestNeighbors(algorithm='brute')"
      ]
     },
     "execution_count": 323,
     "metadata": {},
     "output_type": "execute_result"
    }
   ],
   "source": [
    "model.fit(pt_sparse)"
   ]
  },
  {
   "cell_type": "code",
   "execution_count": 335,
   "id": "e7d3e855-bf57-4512-a469-1d1ec7ab3cc7",
   "metadata": {},
   "outputs": [],
   "source": [
    "def recommend(book_name):\n",
    "    id = np.where(pt.index ==book_name)[0][0]\n",
    "    distances, suggestions = model.kneighbors(pt.iloc[id,:].values.reshape(1,-1), n_neighbors=6)\n",
    "    for i in range(len(suggestions)):\n",
    "            \n",
    "        print(pt.index[suggestions[i]])"
   ]
  },
  {
   "cell_type": "code",
   "execution_count": 336,
   "id": "a071c997-8cba-4f59-bc7e-6402718f020c",
   "metadata": {},
   "outputs": [
    {
     "name": "stdout",
     "output_type": "stream",
     "text": [
      "Index(['Little Women', 'False Witness', 'Evening Star', 'Hot Flashes',\n",
      "       'BODILY HARM', 'The Silver Rose'],\n",
      "      dtype='object', name='Book-Title')\n"
     ]
    }
   ],
   "source": [
    "recommend(\"Little Women\")"
   ]
  },
  {
   "cell_type": "code",
   "execution_count": null,
   "id": "493e7137-6bc5-43be-b165-ff0570e22822",
   "metadata": {},
   "outputs": [],
   "source": []
  }
 ],
 "metadata": {
  "kernelspec": {
   "display_name": "Python 3 (ipykernel)",
   "language": "python",
   "name": "python3"
  },
  "language_info": {
   "codemirror_mode": {
    "name": "ipython",
    "version": 3
   },
   "file_extension": ".py",
   "mimetype": "text/x-python",
   "name": "python",
   "nbconvert_exporter": "python",
   "pygments_lexer": "ipython3",
   "version": "3.9.7"
  }
 },
 "nbformat": 4,
 "nbformat_minor": 5
}
